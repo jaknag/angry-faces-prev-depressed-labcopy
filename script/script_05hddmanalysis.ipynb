{
 "cells": [
  {
   "cell_type": "code",
   "execution_count": 17,
   "metadata": {
    "collapsed": true
   },
   "outputs": [],
   "source": [
    "import pandas as pd\n",
    "import matplotlib.pyplot as plt\n",
    "import numpy as np\n",
    "import hddm\n",
    "import os\n",
    "import math\n",
    "from datetime import datetime\n",
    "from timeit import default_timer as timer\n",
    "from datetime import timedelta\n",
    "import scipy\n",
    "import statistics\n",
    "from zepid.graphics import EffectMeasurePlot\n",
    "import pingouin as pg\n",
    "from pymer4.models import Lmer\n",
    "\n",
    "plt.close('all')\n",
    "beh_path = ('/Users/nagrodzkij/data/angry/')\n",
    "input_path = ('/Users/nagrodzkij/data/angry/input/')\n",
    "output_path = ('/Users/nagrodzkij/data/angry/output/')\n",
    "\n",
    "FaceScores = pd.read_csv(input_path+'/demog/FaceScores.csv',index_col=[0])\n",
    "\n",
    "prev_depressed = pd.read_csv(input_path+'/demog/previously_depressed.csv', names=['0'])\n",
    "list_depressed = prev_depressed['0'].to_list()\n",
    "\n",
    "demog = pd.read_csv(output_path+'table_demog_byccid.csv')\n",
    "\n",
    "################################\n",
    "\n",
    "os.chdir(output_path+'hddm/')\n",
    "hddm_path=(output_path+'hddm/')\n",
    "accuracy_coding_path = hddm_path+'accuracy_coding/'\n",
    "accuracy_coding_models_path=accuracy_coding_path+'models/'\n",
    "\n",
    "data = hddm.load_csv(output_path+'data_emoFace_excl.csv')\n",
    "demog = pd.read_csv(output_path+'table_demog_withedu_byccid.csv',index_col=[0])\n",
    "age = demog.age\n",
    "FaceScores = pd.read_csv(input_path+'/demog/FaceScores.csv',index_col=[0])\n",
    "traces = pd.read_csv(accuracy_coding_models_path+'accuracy_participant1_trace.csv',index_col=0)\n"
   ]
  },
  {
   "cell_type": "code",
   "execution_count": 2,
   "outputs": [],
   "source": [
    "v_angry_cols = [x for x in traces.columns if 'v_subj(Angry)' in x]\n",
    "v_angry_params = traces[v_angry_cols]\n",
    "v_angry_params.columns = v_angry_params.columns.str[14:] #remove 't_subj' from column names\n",
    "\n",
    "v_neutral_cols = [x for x in traces.columns if 'v_subj(Neutral)' in x]\n",
    "v_neutral_params = traces[v_neutral_cols]\n",
    "v_neutral_params.columns = v_neutral_params.columns.str[16:] #remove 't_subj' from column names"
   ],
   "metadata": {
    "collapsed": false,
    "pycharm": {
     "name": "#%%\n"
    }
   }
  },
  {
   "cell_type": "code",
   "execution_count": 19,
   "outputs": [
    {
     "name": "stdout",
     "output_type": "stream",
     "text": [
      "0.8072501420974731\n",
      "0.7828725576400757\n",
      "Normally distributed, therefore performing t-test\n",
      "Variance:  0.3081726883250871 0.2770363500344847\n",
      "Mean v_angry: 1.898998240061349Mean v_neutral:2.2188572524260604\n",
      "Std v_angry: 0.5551330366003154Std v_neutral: 0.5263424265955431\n",
      "               T        dof       tail     p-val           CI95%  cohen-d  \\\n",
      "T-test -4.840113  267.24348  two-sided  0.000002  [-0.45, -0.19]  0.58912   \n",
      "\n",
      "            BF10   power  \n",
      "T-test  6428.683  0.9979  \n",
      "\n"
     ]
    }
   ],
   "source": [
    "excluded_participants = [\"520055\", \"610496\"]\n",
    "\n",
    "if set(excluded_participants).issubset(v_angry_params.columns):\n",
    "    v_angry_params = v_angry_params.drop(columns=excluded_participants)\n",
    "\n",
    "if set(excluded_participants).issubset(v_neutral_params.columns):\n",
    "    v_neutral_params = v_neutral_params.drop(columns=excluded_participants)\n",
    "\n",
    "v_angry_mean = v_angry_params.transpose()\n",
    "v_angry_mean = v_angry_mean.mean(axis=1)\n",
    "\n",
    "v_neutral_mean = v_neutral_params.transpose()\n",
    "v_neutral_mean = v_neutral_mean.mean(axis=1)\n",
    "\n",
    "stat1, p1 = scipy.stats.shapiro(v_angry_mean)\n",
    "stat2, p2 = scipy.stats.shapiro(v_neutral_mean)\n",
    "\n",
    "print(p1)\n",
    "print(p2)\n",
    "\n",
    "data_group1 = v_angry_mean\n",
    "data_group2 = v_neutral_mean\n",
    "\n",
    "if p1 and p2 > 0.05:\n",
    "    print('Normally distributed, therefore performing t-test')\n",
    "    tstat = pg.ttest(data_group1,data_group2,correction=True)\n",
    "    print('Variance: ',np.var(data_group1), np.var(data_group2))\n",
    "    print('Mean v_angry: ' + str(statistics.mean(data_group1)) + 'Mean v_neutral:' + str(statistics.mean(data_group2)))\n",
    "    print('Std v_angry: '+ str(math.sqrt(np.var(data_group1))) + 'Std v_neutral: ' + str(math.sqrt(np.var(data_group2))))\n",
    "    print(tstat)\n",
    "    print('')\n",
    "\n",
    "else:\n",
    "    print('Not normally distributed, performing Mann Whitney U test')\n",
    "    print('Median v_angry: ' + str(statistics.median(data_group1)))\n",
    "    q3_depressed, q1_depressed = np.percentile(data_group1, [75 ,25])\n",
    "    print('IQR v_angry: ' + str(q1_depressed) + ', ' + str(q3_depressed))\n",
    "\n",
    "    print(' ')\n",
    "\n",
    "    print('Median v_neutral:' + str(statistics.median(data_group2)))\n",
    "    q3_nondepressed, q1_nondepressed = np.percentile(data_group2, [75 ,25])\n",
    "    print('IQR v_neutral: ' + str(q1_nondepressed) + ', ' + str(q3_nondepressed))\n",
    "    res = scipy.stats.mannwhitneyu(data_group1, data_group2)\n",
    "    print(res)\n",
    "    print('')\n"
   ],
   "metadata": {
    "collapsed": false,
    "pycharm": {
     "name": "#%%\n"
    }
   }
  },
  {
   "cell_type": "code",
   "execution_count": null,
   "outputs": [],
   "source": [],
   "metadata": {
    "collapsed": false,
    "pycharm": {
     "name": "#%%\n"
    }
   }
  }
 ],
 "metadata": {
  "kernelspec": {
   "display_name": "Python 3",
   "language": "python",
   "name": "python3"
  },
  "language_info": {
   "codemirror_mode": {
    "name": "ipython",
    "version": 2
   },
   "file_extension": ".py",
   "mimetype": "text/x-python",
   "name": "python",
   "nbconvert_exporter": "python",
   "pygments_lexer": "ipython2",
   "version": "2.7.6"
  }
 },
 "nbformat": 4,
 "nbformat_minor": 0
}